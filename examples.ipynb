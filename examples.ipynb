{
 "cells": [
  {
   "cell_type": "code",
   "execution_count": 26,
   "metadata": {},
   "outputs": [],
   "source": [
    "import leopy as lp\n",
    "from leopy.decorators import *"
   ]
  },
  {
   "cell_type": "code",
   "execution_count": 27,
   "metadata": {},
   "outputs": [
    {
     "name": "stdout",
     "output_type": "stream",
     "text": [
      "Execution time of my_function: 0.00000 seconds\n"
     ]
    },
    {
     "data": {
      "text/plain": [
       "3628800"
      ]
     },
     "execution_count": 27,
     "metadata": {},
     "output_type": "execute_result"
    }
   ],
   "source": [
    "@timer\n",
    "def my_function(n):\n",
    "    result = 1\n",
    "    for i in range(1, n + 1):\n",
    "        result *= i\n",
    "    return result\n",
    "\n",
    "my_function(10)"
   ]
  },
  {
   "cell_type": "code",
   "execution_count": 28,
   "metadata": {},
   "outputs": [
    {
     "name": "stdout",
     "output_type": "stream",
     "text": [
      "354224848179261915075\n",
      "354224848179261915075\n"
     ]
    }
   ],
   "source": [
    "@cache\n",
    "def fibonacci(n):\n",
    "    if n <= 1:\n",
    "        return n\n",
    "    else:\n",
    "        return fibonacci(n - 1) + fibonacci(n - 2)\n",
    "\n",
    "print(fibonacci(100))\n",
    "print(fibonacci(100))"
   ]
  },
  {
   "cell_type": "code",
   "execution_count": 29,
   "metadata": {},
   "outputs": [
    {
     "name": "stdout",
     "output_type": "stream",
     "text": [
      "Execution time of wrapper: 0.00000 seconds\n"
     ]
    },
    {
     "data": {
      "text/plain": [
       "354224848179261915075"
      ]
     },
     "execution_count": 29,
     "metadata": {},
     "output_type": "execute_result"
    }
   ],
   "source": [
    "cached_fib = cache(fibonacci)\n",
    "timed_cached_fib = timer(cached_fib)\n",
    "timed_cached_fib(100)"
   ]
  },
  {
   "cell_type": "code",
   "execution_count": 30,
   "metadata": {},
   "outputs": [
    {
     "name": "stdout",
     "output_type": "stream",
     "text": [
      "Retry 1/3 due to: Random error occurred\n",
      "Retry 2/3 due to: Random error occurred\n",
      "Success\n"
     ]
    }
   ],
   "source": [
    "@retry_decorator(max_retries=3, delay=1)\n",
    "def error_prone_function():\n",
    "    import random\n",
    "    if random.random() < 0.5:\n",
    "        raise Exception(\"Random error occurred\")\n",
    "    else:\n",
    "        return \"Success\"\n",
    "\n",
    "result = error_prone_function()\n",
    "print(result)"
   ]
  },
  {
   "cell_type": "code",
   "execution_count": 31,
   "metadata": {},
   "outputs": [
    {
     "name": "stdout",
     "output_type": "stream",
     "text": [
      "Calling greet with args: ('Alice',), kwargs: {}\n",
      "greet returned: Hello, Alice!\n",
      "Hello, Alice!\n"
     ]
    }
   ],
   "source": [
    "@logger\n",
    "def greet(name):\n",
    "    return f\"Hello, {name}!\"\n",
    "\n",
    "result = greet(\"Alice\")\n",
    "print(result)"
   ]
  },
  {
   "cell_type": "code",
   "execution_count": 32,
   "metadata": {},
   "outputs": [
    {
     "name": "stdout",
     "output_type": "stream",
     "text": [
      "1\n",
      "1\n",
      "1\n"
     ]
    }
   ],
   "source": [
    "@stoppable(sleep_time=1)\n",
    "def print_():\n",
    "    print(1)\n",
    "    \n",
    "stop_func = print_()\n",
    "time.sleep(3)\n",
    "stop_func()"
   ]
  },
  {
   "cell_type": "code",
   "execution_count": 33,
   "metadata": {},
   "outputs": [
    {
     "name": "stdout",
     "output_type": "stream",
     "text": [
      "Making an API call...\n",
      "Making an API call...\n",
      "Making an API call...\n",
      "Making an API call...\n",
      "Making an API call...\n",
      "Making an API call...\n",
      "Making an API call...\n",
      "Making an API call...\n",
      "Making an API call...\n",
      "Making an API call...\n"
     ]
    }
   ],
   "source": [
    "@rate_limiter(limit=5, interval=1)\n",
    "def api_call():\n",
    "    print(\"Making an API call...\")\n",
    "\n",
    "# 在1秒内连续调用api_call函数10次\n",
    "for _ in range(10):\n",
    "    api_call()"
   ]
  },
  {
   "cell_type": "code",
   "execution_count": 34,
   "metadata": {},
   "outputs": [
    {
     "name": "stdout",
     "output_type": "stream",
     "text": [
      "Function 'long_running_function' timed out after 3 seconds\n"
     ]
    }
   ],
   "source": [
    "@timeout(seconds=3)\n",
    "def long_running_function():\n",
    "    time.sleep(5)\n",
    "    print(\"Function completed\")\n",
    "\n",
    "try:\n",
    "    long_running_function()\n",
    "except TimeoutError as e:\n",
    "    print(str(e))"
   ]
  }
 ],
 "metadata": {
  "kernelspec": {
   "display_name": "venv",
   "language": "python",
   "name": "python3"
  },
  "language_info": {
   "codemirror_mode": {
    "name": "ipython",
    "version": 3
   },
   "file_extension": ".py",
   "mimetype": "text/x-python",
   "name": "python",
   "nbconvert_exporter": "python",
   "pygments_lexer": "ipython3",
   "version": "3.9.6"
  }
 },
 "nbformat": 4,
 "nbformat_minor": 2
}
