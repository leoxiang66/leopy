{
 "cells": [
  {
   "cell_type": "code",
   "execution_count": 26,
   "metadata": {},
   "outputs": [],
   "source": [
    "import leopy as lp\n",
    "from leopy.decorators import *"
   ]
  },
  {
   "cell_type": "code",
   "execution_count": null,
   "metadata": {},
   "outputs": [],
   "source": [
    "@timer\n",
    "def my_function(n):\n",
    "    result = 1\n",
    "    for i in range(1, n + 1):\n",
    "        result *= i\n",
    "    return result\n",
    "\n",
    "my_function(10)"
   ]
  },
  {
   "cell_type": "code",
   "execution_count": null,
   "metadata": {},
   "outputs": [],
   "source": [
    "@cache\n",
    "def fibonacci(n):\n",
    "    if n <= 1:\n",
    "        return n\n",
    "    else:\n",
    "        return fibonacci(n - 1) + fibonacci(n - 2)\n",
    "\n",
    "print(fibonacci(100))\n",
    "print(fibonacci(100))"
   ]
  },
  {
   "cell_type": "code",
   "execution_count": null,
   "metadata": {},
   "outputs": [],
   "source": [
    "cached_fib = cache(fibonacci)\n",
    "timed_cached_fib = timer(cached_fib)\n",
    "timed_cached_fib(100)"
   ]
  },
  {
   "cell_type": "code",
   "execution_count": null,
   "metadata": {},
   "outputs": [],
   "source": [
    "@retry_decorator(max_retries=3, delay=1)\n",
    "def error_prone_function():\n",
    "    import random\n",
    "    if random.random() < 0.5:\n",
    "        raise Exception(\"Random error occurred\")\n",
    "    else:\n",
    "        return \"Success\"\n",
    "\n",
    "result = error_prone_function()\n",
    "print(result)"
   ]
  },
  {
   "cell_type": "code",
   "execution_count": null,
   "metadata": {},
   "outputs": [],
   "source": [
    "@logger\n",
    "def greet(name):\n",
    "    return f\"Hello, {name}!\"\n",
    "\n",
    "result = greet(\"Alice\")\n",
    "print(result)"
   ]
  },
  {
   "cell_type": "code",
   "execution_count": null,
   "metadata": {},
   "outputs": [],
   "source": [
    "@stoppable(sleep_time=1)\n",
    "def print_():\n",
    "    print(1)\n",
    "    \n",
    "stop_func = print_()\n",
    "time.sleep(3)\n",
    "stop_func()"
   ]
  },
  {
   "cell_type": "code",
   "execution_count": null,
   "metadata": {},
   "outputs": [],
   "source": [
    "@rate_limiter(limit=5, interval=1)\n",
    "def api_call():\n",
    "    print(\"Making an API call...\")\n",
    "\n",
    "# 在1秒内连续调用api_call函数10次\n",
    "for _ in range(10):\n",
    "    api_call()"
   ]
  },
  {
   "cell_type": "code",
   "execution_count": null,
   "metadata": {},
   "outputs": [],
   "source": [
    "@timeout(seconds=3)\n",
    "def long_running_function():\n",
    "    time.sleep(5)\n",
    "    print(\"Function completed\")\n",
    "\n",
    "try:\n",
    "    long_running_function()\n",
    "except TimeoutError as e:\n",
    "    print(str(e))"
   ]
  }
 ],
 "metadata": {
  "kernelspec": {
   "display_name": "venv",
   "language": "python",
   "name": "python3"
  },
  "language_info": {
   "codemirror_mode": {
    "name": "ipython",
    "version": 3
   },
   "file_extension": ".py",
   "mimetype": "text/x-python",
   "name": "python",
   "nbconvert_exporter": "python",
   "pygments_lexer": "ipython3",
   "version": "3.9.6"
  }
 },
 "nbformat": 4,
 "nbformat_minor": 2
}
